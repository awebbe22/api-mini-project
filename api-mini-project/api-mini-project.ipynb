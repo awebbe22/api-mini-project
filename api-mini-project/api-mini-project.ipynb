{
 "cells": [
  {
   "cell_type": "code",
   "execution_count": 17,
   "id": "9204a671",
   "metadata": {},
   "outputs": [
    {
     "name": "stdout",
     "output_type": "stream",
     "text": [
      "env: NASDAQ_API_KEY='DUsyuyTzzfERSEXWvD4X'\n"
     ]
    }
   ],
   "source": [
    "%env NASDAQ_API_KEY='DUsyuyTzzfERSEXWvD4X'"
   ]
  },
  {
   "cell_type": "code",
   "execution_count": 18,
   "id": "42513350",
   "metadata": {},
   "outputs": [],
   "source": [
    "import os\n",
    "from dotenv import load_dotenv"
   ]
  },
  {
   "cell_type": "code",
   "execution_count": 19,
   "id": "48401ca5",
   "metadata": {},
   "outputs": [
    {
     "data": {
      "text/plain": [
       "False"
      ]
     },
     "execution_count": 19,
     "metadata": {},
     "output_type": "execute_result"
    }
   ],
   "source": [
    "load_dotenv()"
   ]
  },
  {
   "cell_type": "code",
   "execution_count": 20,
   "id": "956a1c7b",
   "metadata": {},
   "outputs": [],
   "source": [
    "API_KEY = os.getenv('NASDAQ_API_KEY')"
   ]
  },
  {
   "cell_type": "code",
   "execution_count": 21,
   "id": "a4a425da",
   "metadata": {},
   "outputs": [
    {
     "name": "stdout",
     "output_type": "stream",
     "text": [
      "'DUsyuyTzzfERSEXWvD4X'\n"
     ]
    }
   ],
   "source": [
    "print(API_KEY)"
   ]
  },
  {
   "cell_type": "code",
   "execution_count": 22,
   "id": "a8e0b587",
   "metadata": {},
   "outputs": [],
   "source": [
    "import requests"
   ]
  },
  {
   "cell_type": "code",
   "execution_count": 23,
   "id": "d564a98e",
   "metadata": {},
   "outputs": [],
   "source": [
    "url = 'https://data.nasdaq.com/api/v3/datasets/FSE/AFX_X.json?column_index=4&start_date=2017-01-01&end_date=2017-12-31&collapse=monthly&transform=rdiff&api_key=DUsyuyTzzfERSEXWvD4X'"
   ]
  },
  {
   "cell_type": "code",
   "execution_count": 24,
   "id": "592e40f5",
   "metadata": {},
   "outputs": [],
   "source": [
    "res = requests.get(url)"
   ]
  },
  {
   "cell_type": "code",
   "execution_count": 25,
   "id": "f473e556",
   "metadata": {},
   "outputs": [
    {
     "name": "stdout",
     "output_type": "stream",
     "text": [
      "<Response [200]>\n"
     ]
    }
   ],
   "source": [
    "print(res)"
   ]
  },
  {
   "cell_type": "code",
   "execution_count": 26,
   "id": "4d67f5bb",
   "metadata": {},
   "outputs": [
    {
     "name": "stdout",
     "output_type": "stream",
     "text": [
      "Response OK\n"
     ]
    }
   ],
   "source": [
    "if res:\n",
    "    print('Response OK')\n",
    "else:\n",
    "    print('Response Failed')"
   ]
  },
  {
   "cell_type": "code",
   "execution_count": 27,
   "id": "b2192dda",
   "metadata": {},
   "outputs": [],
   "source": [
    "#params = dict(key=API_KEY, lang='en-es')"
   ]
  },
  {
   "cell_type": "code",
   "execution_count": 28,
   "id": "5b47ac06",
   "metadata": {},
   "outputs": [],
   "source": [
    "#res = requests.get(url, params=params)"
   ]
  },
  {
   "cell_type": "code",
   "execution_count": 29,
   "id": "ed13c100",
   "metadata": {},
   "outputs": [],
   "source": [
    "#text = res.text"
   ]
  },
  {
   "cell_type": "code",
   "execution_count": 30,
   "id": "ef9536f5",
   "metadata": {},
   "outputs": [],
   "source": [
    "import json"
   ]
  },
  {
   "cell_type": "code",
   "execution_count": 31,
   "id": "9ccbf374",
   "metadata": {},
   "outputs": [],
   "source": [
    "json = res.json()\n",
    "#print(json)"
   ]
  },
  {
   "cell_type": "code",
   "execution_count": 32,
   "id": "90ee0694",
   "metadata": {},
   "outputs": [
    {
     "name": "stdout",
     "output_type": "stream",
     "text": [
      "dataset: {'id': 10095370, 'dataset_code': 'AFX_X', 'database_code': 'FSE', 'name': 'Carl Zeiss Meditec (AFX_X)', 'description': 'Stock Prices for Carl Zeiss Meditec (2020-11-02) from the Frankfurt Stock Exchange.<br><br>Trading System: Xetra<br><br>ISIN: DE0005313704', 'refreshed_at': '2020-12-01T14:48:09.907Z', 'newest_available_date': '2020-12-01', 'oldest_available_date': '2000-06-07', 'column_names': ['Date', 'Close'], 'frequency': 'daily', 'type': 'Time Series', 'premium': False, 'limit': None, 'transform': 'rdiff', 'column_index': 4, 'start_date': '2017-01-01', 'end_date': '2017-12-31', 'data': [['2017-12-31', 0.041448692152917], ['2017-11-30', 0.086101398601399], ['2017-10-31', 0.035997283223908], ['2017-09-30', 0.05417661097852], ['2017-08-31', -0.075055187637969], ['2017-07-31', -0.003080985915493], ['2017-06-30', -0.0091583078935892], ['2017-05-31', 0.099232981783317], ['2017-04-30', 0.04352176088044], ['2017-03-31', -0.02105778648384], ['2017-02-28', 0.18171296296296]], 'collapse': 'monthly', 'order': None, 'database_id': 6129}\n"
     ]
    }
   ],
   "source": [
    "for key, value in json.items():\n",
    "    print(key + ':',value)"
   ]
  },
  {
   "cell_type": "code",
   "execution_count": 33,
   "id": "c91d6a0f",
   "metadata": {},
   "outputs": [],
   "source": [
    "#with open(json) as json_file:\n",
    "    #json_data = json.load(json_file)"
   ]
  },
  {
   "cell_type": "code",
   "execution_count": 34,
   "id": "e5118c6f",
   "metadata": {},
   "outputs": [],
   "source": [
    "json_dict = dict(json)"
   ]
  },
  {
   "cell_type": "code",
   "execution_count": 35,
   "id": "7e996872",
   "metadata": {},
   "outputs": [
    {
     "name": "stdout",
     "output_type": "stream",
     "text": [
      "{'dataset': {'id': 10095370, 'dataset_code': 'AFX_X', 'database_code': 'FSE', 'name': 'Carl Zeiss Meditec (AFX_X)', 'description': 'Stock Prices for Carl Zeiss Meditec (2020-11-02) from the Frankfurt Stock Exchange.<br><br>Trading System: Xetra<br><br>ISIN: DE0005313704', 'refreshed_at': '2020-12-01T14:48:09.907Z', 'newest_available_date': '2020-12-01', 'oldest_available_date': '2000-06-07', 'column_names': ['Date', 'Close'], 'frequency': 'daily', 'type': 'Time Series', 'premium': False, 'limit': None, 'transform': 'rdiff', 'column_index': 4, 'start_date': '2017-01-01', 'end_date': '2017-12-31', 'data': [['2017-12-31', 0.041448692152917], ['2017-11-30', 0.086101398601399], ['2017-10-31', 0.035997283223908], ['2017-09-30', 0.05417661097852], ['2017-08-31', -0.075055187637969], ['2017-07-31', -0.003080985915493], ['2017-06-30', -0.0091583078935892], ['2017-05-31', 0.099232981783317], ['2017-04-30', 0.04352176088044], ['2017-03-31', -0.02105778648384], ['2017-02-28', 0.18171296296296]], 'collapse': 'monthly', 'order': None, 'database_id': 6129}}\n"
     ]
    }
   ],
   "source": [
    "print(json_dict)"
   ]
  },
  {
   "cell_type": "code",
   "execution_count": 36,
   "id": "6846463d",
   "metadata": {
    "scrolled": true
   },
   "outputs": [],
   "source": [
    "#for k in dict.keys():\n",
    "    #print(k + ': ', dict[k])"
   ]
  },
  {
   "cell_type": "code",
   "execution_count": 38,
   "id": "8cbc5f59",
   "metadata": {},
   "outputs": [
    {
     "ename": "TypeError",
     "evalue": "'>' not supported between instances of 'str' and 'int'",
     "output_type": "error",
     "traceback": [
      "\u001b[0;31m---------------------------------------------------------------------------\u001b[0m",
      "\u001b[0;31mTypeError\u001b[0m                                 Traceback (most recent call last)",
      "\u001b[0;32m/var/folders/fq/s_s9wfvx1lxdyjggf2hcjtlc0000gn/T/ipykernel_65276/4239551890.py\u001b[0m in \u001b[0;36m<module>\u001b[0;34m\u001b[0m\n\u001b[0;32m----> 1\u001b[0;31m \u001b[0mmax_2017\u001b[0m \u001b[0;34m=\u001b[0m \u001b[0;34m{\u001b[0m\u001b[0mkey\u001b[0m\u001b[0;34m:\u001b[0m \u001b[0mmax\u001b[0m\u001b[0;34m(\u001b[0m\u001b[0mval\u001b[0m\u001b[0;34m.\u001b[0m\u001b[0mvalues\u001b[0m\u001b[0;34m(\u001b[0m\u001b[0;34m)\u001b[0m\u001b[0;34m)\u001b[0m \u001b[0;32mfor\u001b[0m \u001b[0mkey\u001b[0m\u001b[0;34m,\u001b[0m \u001b[0mval\u001b[0m \u001b[0;32min\u001b[0m \u001b[0mjson_dict\u001b[0m\u001b[0;34m.\u001b[0m\u001b[0mitems\u001b[0m\u001b[0;34m(\u001b[0m\u001b[0;34m)\u001b[0m\u001b[0;34m}\u001b[0m\u001b[0;34m\u001b[0m\u001b[0;34m\u001b[0m\u001b[0m\n\u001b[0m",
      "\u001b[0;32m/var/folders/fq/s_s9wfvx1lxdyjggf2hcjtlc0000gn/T/ipykernel_65276/4239551890.py\u001b[0m in \u001b[0;36m<dictcomp>\u001b[0;34m(.0)\u001b[0m\n\u001b[0;32m----> 1\u001b[0;31m \u001b[0mmax_2017\u001b[0m \u001b[0;34m=\u001b[0m \u001b[0;34m{\u001b[0m\u001b[0mkey\u001b[0m\u001b[0;34m:\u001b[0m \u001b[0mmax\u001b[0m\u001b[0;34m(\u001b[0m\u001b[0mval\u001b[0m\u001b[0;34m.\u001b[0m\u001b[0mvalues\u001b[0m\u001b[0;34m(\u001b[0m\u001b[0;34m)\u001b[0m\u001b[0;34m)\u001b[0m \u001b[0;32mfor\u001b[0m \u001b[0mkey\u001b[0m\u001b[0;34m,\u001b[0m \u001b[0mval\u001b[0m \u001b[0;32min\u001b[0m \u001b[0mjson_dict\u001b[0m\u001b[0;34m.\u001b[0m\u001b[0mitems\u001b[0m\u001b[0;34m(\u001b[0m\u001b[0;34m)\u001b[0m\u001b[0;34m}\u001b[0m\u001b[0;34m\u001b[0m\u001b[0;34m\u001b[0m\u001b[0m\n\u001b[0m",
      "\u001b[0;31mTypeError\u001b[0m: '>' not supported between instances of 'str' and 'int'"
     ]
    }
   ],
   "source": [
    "max_2017 = {key: max(val.values()) for key, val in json_dict.items()}"
   ]
  },
  {
   "cell_type": "code",
   "execution_count": null,
   "id": "a8a0d3da",
   "metadata": {},
   "outputs": [],
   "source": [
    "print(max(json_dict['Open']))"
   ]
  },
  {
   "cell_type": "code",
   "execution_count": null,
   "id": "9eadeb94",
   "metadata": {},
   "outputs": [],
   "source": []
  }
 ],
 "metadata": {
  "kernelspec": {
   "display_name": "Python 3 (ipykernel)",
   "language": "python",
   "name": "python3"
  },
  "language_info": {
   "codemirror_mode": {
    "name": "ipython",
    "version": 3
   },
   "file_extension": ".py",
   "mimetype": "text/x-python",
   "name": "python",
   "nbconvert_exporter": "python",
   "pygments_lexer": "ipython3",
   "version": "3.9.13"
  }
 },
 "nbformat": 4,
 "nbformat_minor": 5
}
